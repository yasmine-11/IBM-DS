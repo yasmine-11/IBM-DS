{
  "metadata": {
    "language_info": {
      "codemirror_mode": {
        "name": "python",
        "version": 3
      },
      "file_extension": ".py",
      "mimetype": "text/x-python",
      "name": "python",
      "nbconvert_exporter": "python",
      "pygments_lexer": "ipython3",
      "version": "3.8"
    },
    "kernelspec": {
      "name": "python",
      "display_name": "Python (Pyodide)",
      "language": "python"
    }
  },
  "nbformat_minor": 4,
  "nbformat": 4,
  "cells": [
    {
      "cell_type": "markdown",
      "source": "<h1>My first notebook</h1>",
      "metadata": {}
    },
    {
      "cell_type": "markdown",
      "source": "<p>This is my first notebook experience, where I will put into use what I learned in the course.<p>",
      "metadata": {}
    },
    {
      "cell_type": "markdown",
      "source": "<p>Data Science Languages:</p>\n<ul>\n    <li>Python</li>\n    <li>Java</li>\n    <li>R</li>\n    <li>Julia</li>\n</ul>",
      "metadata": {}
    },
    {
      "cell_type": "markdown",
      "source": "<p>Data Science Libraries:</p>\n<ul>\n    <li>Tensor Flow</li>\n    <li>Matplotlib</li>\n    <li>Pandas</li>\n    <li>Numpy</li>\n</ul>",
      "metadata": {}
    },
    {
      "cell_type": "markdown",
      "source": "<p>Data Science Tools:</p>\n<table>\n  <tr>\n    <th>Data Science Tools</th>\n  </tr>\n  <tr><td>Scikit-learn</td></tr>\n    <tr><td>Apache Spark</td></tr>\n    <tr><td>Tableau</td></tr>\n  \n</table>",
      "metadata": {}
    },
    {
      "cell_type": "code",
      "source": "# Arithmetic Expression example:\n1 + 2",
      "metadata": {
        "trusted": true
      },
      "execution_count": 2,
      "outputs": [
        {
          "execution_count": 2,
          "output_type": "execute_result",
          "data": {
            "text/plain": "3"
          },
          "metadata": {}
        }
      ]
    },
    {
      "cell_type": "code",
      "source": "# Multiply and add numbers\n2 * 3 + 4",
      "metadata": {
        "trusted": true
      },
      "execution_count": 3,
      "outputs": [
        {
          "execution_count": 3,
          "output_type": "execute_result",
          "data": {
            "text/plain": "10"
          },
          "metadata": {}
        }
      ]
    },
    {
      "cell_type": "code",
      "source": "minutes = 60\nhours = round(minutes / 60)\nprint(hours, \"Hour\")",
      "metadata": {
        "trusted": true
      },
      "execution_count": 9,
      "outputs": [
        {
          "name": "stdout",
          "text": "1 Hour\n",
          "output_type": "stream"
        }
      ]
    },
    {
      "cell_type": "markdown",
      "source": "<p>Objectives:</p>\n<ul>\n    <li>Learn Data Science</li>\n    <li>Become successful in this field</li>\n</ul>",
      "metadata": {}
    },
    {
      "cell_type": "markdown",
      "source": "<h3>Author's name = Yasmine</h3>",
      "metadata": {}
    }
  ]
}